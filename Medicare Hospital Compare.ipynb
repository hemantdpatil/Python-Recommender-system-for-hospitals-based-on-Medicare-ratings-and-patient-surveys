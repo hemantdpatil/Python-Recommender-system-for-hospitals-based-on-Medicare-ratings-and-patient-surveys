{
 "cells": [
  {
   "cell_type": "code",
   "execution_count": null,
   "metadata": {
    "collapsed": true
   },
   "outputs": [],
   "source": [
    "import os\n",
    "import requests\n",
    "import zipfile\n",
    "import sqlite3\n",
    "import glob"
   ]
  },
  {
   "cell_type": "markdown",
   "metadata": {},
   "source": [
    "### Creating a directory called Staging"
   ]
  },
  {
   "cell_type": "code",
   "execution_count": null,
   "metadata": {
    "collapsed": true
   },
   "outputs": [],
   "source": [
    "# Creating an object called staging_dir_name as pointer to Staging\n",
    "staging_dir_name = \"staging4\""
   ]
  },
  {
   "cell_type": "code",
   "execution_count": null,
   "metadata": {
    "collapsed": true
   },
   "outputs": [],
   "source": [
    "# Creating a directory in a local folder\n",
    "os.mkdir(staging_dir_name)"
   ]
  },
  {
   "cell_type": "code",
   "execution_count": null,
   "metadata": {
    "collapsed": true
   },
   "outputs": [],
   "source": [
    "# Creating a pointer to the given source \n",
    "url=\"https://data.medicare.gov/views/bg9k-emty/files/0a9879e0-3312-4719-a1db-39fd114890f1?content_type=application%2Fzip%3B%20charset%3Dbinary&filename=Hospital_Revised_Flatfiles.zip\""
   ]
  },
  {
   "cell_type": "code",
   "execution_count": null,
   "metadata": {
    "collapsed": true
   },
   "outputs": [],
   "source": [
    "# Loading the data from URL into new object called r\n",
    "r = requests.get(url)"
   ]
  },
  {
   "cell_type": "code",
   "execution_count": null,
   "metadata": {},
   "outputs": [],
   "source": [
    "# To know the size of the file in Content-Lenth\n",
    "r.headers"
   ]
  },
  {
   "cell_type": "code",
   "execution_count": null,
   "metadata": {
    "collapsed": true
   },
   "outputs": [],
   "source": [
    "#Creating a pointer to zip file  \n",
    "zip_file_name=os.path.join(staging_dir_name, \"Hospital_Revised_Flatfiles.zip\")"
   ]
  },
  {
   "cell_type": "code",
   "execution_count": null,
   "metadata": {
    "collapsed": true
   },
   "outputs": [],
   "source": [
    "# Creating a zip file with write binary format\n",
    "zf = open(zip_file_name, \"wb\")"
   ]
  },
  {
   "cell_type": "code",
   "execution_count": null,
   "metadata": {},
   "outputs": [],
   "source": [
    "# Writing the content of URL into the pointer to zip file\n",
    "zf.write(r.content)"
   ]
  },
  {
   "cell_type": "code",
   "execution_count": null,
   "metadata": {
    "collapsed": true
   },
   "outputs": [],
   "source": [
    "zf.close()"
   ]
  },
  {
   "cell_type": "markdown",
   "metadata": {},
   "source": [
    "### Unzipping the File"
   ]
  },
  {
   "cell_type": "code",
   "execution_count": null,
   "metadata": {
    "collapsed": true
   },
   "outputs": [],
   "source": [
    "z = zipfile.ZipFile(zip_file_name,\"r\")"
   ]
  },
  {
   "cell_type": "code",
   "execution_count": null,
   "metadata": {
    "collapsed": true
   },
   "outputs": [],
   "source": [
    "z.extractall(staging_dir_name)"
   ]
  },
  {
   "cell_type": "markdown",
   "metadata": {},
   "source": [
    "### Creating a SQLite database in local directory"
   ]
  },
  {
   "cell_type": "code",
   "execution_count": null,
   "metadata": {
    "collapsed": true
   },
   "outputs": [],
   "source": [
    "conn = sqlite3.connect('medicare_hospital_compare3.db')"
   ]
  },
  {
   "cell_type": "code",
   "execution_count": null,
   "metadata": {},
   "outputs": [],
   "source": [
    "conn"
   ]
  },
  {
   "cell_type": "markdown",
   "metadata": {},
   "source": [
    "### Creating a table for each CSV file"
   ]
  },
  {
   "cell_type": "code",
   "execution_count": null,
   "metadata": {},
   "outputs": [],
   "source": [
    "def do_directory(staging_dir_name, conn):\n",
    "    print(\"a\")\n",
    "    for filename in glob.glob(os.path.join(staging_dir_name, '*.csv')):\n",
    "        do_file(filename, conn)\n",
    "        \n",
    "def do_file(filename, conn):\n",
    "        with open(filename) as f:\n",
    "            with conn:\n",
    "                data = csv.DicReader(f)\n",
    "                cols = data.fieldnames\n",
    "                table=os.path.splitext(os.path.basename(filename))[0]\n",
    "\n",
    "                sql = 'drop table if exists \"{}\"'.format(table)\n",
    "                db.execute(sql)\n",
    "\n",
    "                sql = 'create table \"{table}\" ( {cols} )'.format(\n",
    "                    table=table,\n",
    "                    cols=','.join('\"{}\"'.format(col) for col in cols))\n",
    "                db.execute(sql)\n",
    "\n",
    "                sql = 'insert into \"{table}\" values ( {vals} )'.format(\n",
    "                    table=table,\n",
    "                    vals=','.join('?' for col in cols))\n",
    "                db.executemany(sql, (list(map(row.get, cols)) for row in data))\n",
    "\n",
    "if __name__ == '__main__':\n",
    "    conn = sqlite3.connect('medicare_hospital_compare3.db')\n",
    "    do_directory('.', conn)"
   ]
  }
 ],
 "metadata": {
  "kernelspec": {
   "display_name": "Python 3",
   "language": "python",
   "name": "python3"
  },
  "language_info": {
   "codemirror_mode": {
    "name": "ipython",
    "version": 3
   },
   "file_extension": ".py",
   "mimetype": "text/x-python",
   "name": "python",
   "nbconvert_exporter": "python",
   "pygments_lexer": "ipython3",
   "version": "3.6.1"
  }
 },
 "nbformat": 4,
 "nbformat_minor": 2
}
